{
 "cells": [
  {
   "cell_type": "markdown",
   "metadata": {
    "toc": true
   },
   "source": [
    "<h1>Table of Contents<span class=\"tocSkip\"></span></h1>\n",
    "<div class=\"toc\"><ul class=\"toc-item\"><li><span><a href=\"#Before-evaluating-the-effect-of-an-experiment,-it-is-important-to-make-sure-that-the-experiment-was-executed-correctly.-Check-whether-the-test-and-control-groups-are-probabilistically-equivalent-on-their-observables?\" data-toc-modified-id=\"Before-evaluating-the-effect-of-an-experiment,-it-is-important-to-make-sure-that-the-experiment-was-executed-correctly.-Check-whether-the-test-and-control-groups-are-probabilistically-equivalent-on-their-observables?-1\"><span class=\"toc-item-num\">1&nbsp;&nbsp;</span>Before evaluating the effect of an experiment, it is important to make sure that the experiment was executed correctly. Check whether the test and control groups are probabilistically equivalent on their observables?</a></span><ul class=\"toc-item\"><li><span><a href=\"#More-specific,-compare-the-averages-of-the-income,-gender-and-gamer-variables-in-the-test-and-control-groups.-You-should-also-report-the-%-difference-in-the-averages.-Compute-its-statistical-significance.\" data-toc-modified-id=\"More-specific,-compare-the-averages-of-the-income,-gender-and-gamer-variables-in-the-test-and-control-groups.-You-should-also-report-the-%-difference-in-the-averages.-Compute-its-statistical-significance.-1.1\"><span class=\"toc-item-num\">1.1&nbsp;&nbsp;</span>More specific, compare the averages of the income, gender and gamer variables in the test and control groups. You should also report the % difference in the averages. Compute its statistical significance.</a></span></li><li><span><a href=\"#Briefly-comment-on-what-these-metrics-tell-you-about-probabilistic-equivalence-for-this-experiment.\" data-toc-modified-id=\"Briefly-comment-on-what-these-metrics-tell-you-about-probabilistic-equivalence-for-this-experiment.-1.2\"><span class=\"toc-item-num\">1.2&nbsp;&nbsp;</span>Briefly comment on what these metrics tell you about probabilistic equivalence for this experiment.</a></span></li><li><span><a href=\"#If-you-had-run-this-type-of-analysis-BEFORE-executing-an-experiment-and-found-a-large-difference-between-test-and-control-groups,-what-you-should-do?\" data-toc-modified-id=\"If-you-had-run-this-type-of-analysis-BEFORE-executing-an-experiment-and-found-a-large-difference-between-test-and-control-groups,-what-you-should-do?-1.3\"><span class=\"toc-item-num\">1.3&nbsp;&nbsp;</span>If you had run this type of analysis BEFORE executing an experiment and found a large difference between test and control groups, what you should do?</a></span></li><li><span><a href=\"#If-you-had-millions-of-consumers,-your-“classic”-statistical-significance-tests-would-not-work-(this-is-because-the-number-of-samples-is-used-to-compute-those-classic-statistical-tests).-Do-some-research-online-and-propose-what-significance-test-would-you-do-in-case-you-had-“big-data”?\" data-toc-modified-id=\"If-you-had-millions-of-consumers,-your-“classic”-statistical-significance-tests-would-not-work-(this-is-because-the-number-of-samples-is-used-to-compute-those-classic-statistical-tests).-Do-some-research-online-and-propose-what-significance-test-would-you-do-in-case-you-had-“big-data”?-1.4\"><span class=\"toc-item-num\">1.4&nbsp;&nbsp;</span>If you had millions of consumers, your “classic” statistical significance tests would not work (this is because the number of samples is used to compute those classic statistical tests). Do some research online and propose what significance test would you do in case you had “big data”?</a></span></li></ul></li><li><span><a href=\"#Evaluate-the-average-purchase-rates-in-the-test-and-control-for-the-following-groups.-For-each-comparison,-report-the-average-purchase-rate-for-the-test,-average-purchase-rate-for-the-control-and-the-absolute-difference-(not-the-%-difference)-between-the-test-and-control.\" data-toc-modified-id=\"Evaluate-the-average-purchase-rates-in-the-test-and-control-for-the-following-groups.-For-each-comparison,-report-the-average-purchase-rate-for-the-test,-average-purchase-rate-for-the-control-and-the-absolute-difference-(not-the-%-difference)-between-the-test-and-control.-2\"><span class=\"toc-item-num\">2&nbsp;&nbsp;</span>Evaluate the average purchase rates in the test and control for the following groups. For each comparison, report the average purchase rate for the test, average purchase rate for the control and the absolute difference (not the % difference) between the test and control.</a></span></li><li><span><a href=\"#Assess-the-expected-revenue-in-the-test-vs.-control-for-the-following-comparisons\" data-toc-modified-id=\"Assess-the-expected-revenue-in-the-test-vs.-control-for-the-following-comparisons-3\"><span class=\"toc-item-num\">3&nbsp;&nbsp;</span>Assess the expected revenue in the test vs. control for the following comparisons</a></span></li><li><span><a href=\"#Based-on-your-previous-answers,-provide-a-brief-recommendation-to-your-management-team-summarizing-the-expected-financial-outcome-for-Game-Fun.\" data-toc-modified-id=\"Based-on-your-previous-answers,-provide-a-brief-recommendation-to-your-management-team-summarizing-the-expected-financial-outcome-for-Game-Fun.-4\"><span class=\"toc-item-num\">4&nbsp;&nbsp;</span>Based on your previous answers, provide a brief recommendation to your management team summarizing the expected financial outcome for Game-Fun.</a></span></li></ul></div>"
   ]
  },
  {
   "cell_type": "code",
   "execution_count": 276,
   "metadata": {},
   "outputs": [],
   "source": [
    "import numpy as np\n",
    "import pandas as pd\n",
    "import scipy\n",
    "from scipy import stats"
   ]
  },
  {
   "cell_type": "code",
   "execution_count": 85,
   "metadata": {},
   "outputs": [],
   "source": [
    "data = pd.read_excel('GameFun.xlsx')"
   ]
  },
  {
   "cell_type": "code",
   "execution_count": 86,
   "metadata": {},
   "outputs": [
    {
     "data": {
      "text/html": [
       "<div>\n",
       "<style scoped>\n",
       "    .dataframe tbody tr th:only-of-type {\n",
       "        vertical-align: middle;\n",
       "    }\n",
       "\n",
       "    .dataframe tbody tr th {\n",
       "        vertical-align: top;\n",
       "    }\n",
       "\n",
       "    .dataframe thead th {\n",
       "        text-align: right;\n",
       "    }\n",
       "</style>\n",
       "<table border=\"1\" class=\"dataframe\">\n",
       "  <thead>\n",
       "    <tr style=\"text-align: right;\">\n",
       "      <th></th>\n",
       "      <th>id</th>\n",
       "      <th>test</th>\n",
       "      <th>purchase</th>\n",
       "      <th>site</th>\n",
       "      <th>impressions</th>\n",
       "      <th>income</th>\n",
       "      <th>gender</th>\n",
       "      <th>gamer</th>\n",
       "    </tr>\n",
       "  </thead>\n",
       "  <tbody>\n",
       "    <tr>\n",
       "      <th>0</th>\n",
       "      <td>1956</td>\n",
       "      <td>0</td>\n",
       "      <td>0</td>\n",
       "      <td>site1</td>\n",
       "      <td>0</td>\n",
       "      <td>100</td>\n",
       "      <td>1</td>\n",
       "      <td>0</td>\n",
       "    </tr>\n",
       "    <tr>\n",
       "      <th>1</th>\n",
       "      <td>45821</td>\n",
       "      <td>1</td>\n",
       "      <td>0</td>\n",
       "      <td>site1</td>\n",
       "      <td>20</td>\n",
       "      <td>70</td>\n",
       "      <td>1</td>\n",
       "      <td>0</td>\n",
       "    </tr>\n",
       "    <tr>\n",
       "      <th>2</th>\n",
       "      <td>59690</td>\n",
       "      <td>1</td>\n",
       "      <td>0</td>\n",
       "      <td>site1</td>\n",
       "      <td>22</td>\n",
       "      <td>100</td>\n",
       "      <td>1</td>\n",
       "      <td>0</td>\n",
       "    </tr>\n",
       "    <tr>\n",
       "      <th>3</th>\n",
       "      <td>18851</td>\n",
       "      <td>0</td>\n",
       "      <td>0</td>\n",
       "      <td>site1</td>\n",
       "      <td>13</td>\n",
       "      <td>90</td>\n",
       "      <td>1</td>\n",
       "      <td>0</td>\n",
       "    </tr>\n",
       "    <tr>\n",
       "      <th>4</th>\n",
       "      <td>60647</td>\n",
       "      <td>1</td>\n",
       "      <td>0</td>\n",
       "      <td>site1</td>\n",
       "      <td>12</td>\n",
       "      <td>60</td>\n",
       "      <td>1</td>\n",
       "      <td>0</td>\n",
       "    </tr>\n",
       "  </tbody>\n",
       "</table>\n",
       "</div>"
      ],
      "text/plain": [
       "      id  test  purchase   site  impressions  income  gender  gamer\n",
       "0   1956     0         0  site1            0     100       1      0\n",
       "1  45821     1         0  site1           20      70       1      0\n",
       "2  59690     1         0  site1           22     100       1      0\n",
       "3  18851     0         0  site1           13      90       1      0\n",
       "4  60647     1         0  site1           12      60       1      0"
      ]
     },
     "execution_count": 86,
     "metadata": {},
     "output_type": "execute_result"
    }
   ],
   "source": [
    "data.head()"
   ]
  },
  {
   "cell_type": "markdown",
   "metadata": {},
   "source": [
    "### Before evaluating the effect of an experiment, it is important to make sure that the experiment was executed correctly. Check whether the test and control groups are probabilistically equivalent on their observables?"
   ]
  },
  {
   "cell_type": "markdown",
   "metadata": {},
   "source": [
    "#### More specific, compare the averages of the income, gender and gamer variables in the test and control groups. You should also report the % difference in the averages. Compute its statistical significance."
   ]
  },
  {
   "cell_type": "code",
   "execution_count": 138,
   "metadata": {},
   "outputs": [],
   "source": [
    "control_group = data[data['test']== 0]\n",
    "test_group = data[data['test']== 1]"
   ]
  },
  {
   "cell_type": "code",
   "execution_count": 267,
   "metadata": {},
   "outputs": [],
   "source": [
    "control_income = round(control_group['income'].mean(),2)\n",
    "control_gender = round(control_group['gender'].mean(),2)\n",
    "control_gamer = round(control_group['gamer'].mean(),2)"
   ]
  },
  {
   "cell_type": "code",
   "execution_count": 273,
   "metadata": {},
   "outputs": [],
   "source": [
    "test_income = round(test_group['income'].mean(),2)\n",
    "test_gender = round(test_group['gender'].mean(),2)\n",
    "test_gamer = round(test_group['gamer'].mean(),2)"
   ]
  },
  {
   "cell_type": "code",
   "execution_count": 274,
   "metadata": {},
   "outputs": [],
   "source": [
    "t1,p1 = stats.ttest_ind(control_group['income'],test_group['income'])\n",
    "t2,p2 = stats.ttest_ind(control_group['gender'],test_group['gender'])\n",
    "t3,p3 = stats.ttest_ind(control_group['gamer'],test_group['gamer'])"
   ]
  },
  {
   "cell_type": "code",
   "execution_count": 275,
   "metadata": {},
   "outputs": [
    {
     "data": {
      "text/html": [
       "<div>\n",
       "<style scoped>\n",
       "    .dataframe tbody tr th:only-of-type {\n",
       "        vertical-align: middle;\n",
       "    }\n",
       "\n",
       "    .dataframe tbody tr th {\n",
       "        vertical-align: top;\n",
       "    }\n",
       "\n",
       "    .dataframe thead th {\n",
       "        text-align: right;\n",
       "    }\n",
       "</style>\n",
       "<table border=\"1\" class=\"dataframe\">\n",
       "  <thead>\n",
       "    <tr style=\"text-align: right;\">\n",
       "      <th></th>\n",
       "      <th>Control Mean</th>\n",
       "      <th>Test Mean</th>\n",
       "      <th>Percentage Difference %</th>\n",
       "      <th>Statistical Significance</th>\n",
       "    </tr>\n",
       "  </thead>\n",
       "  <tbody>\n",
       "    <tr>\n",
       "      <th>Income</th>\n",
       "      <td>55.17</td>\n",
       "      <td>54.94</td>\n",
       "      <td>-0.416893</td>\n",
       "      <td>0.128358</td>\n",
       "    </tr>\n",
       "    <tr>\n",
       "      <th>Gender</th>\n",
       "      <td>0.65</td>\n",
       "      <td>0.65</td>\n",
       "      <td>0.000000</td>\n",
       "      <td>0.906033</td>\n",
       "    </tr>\n",
       "    <tr>\n",
       "      <th>Gamer</th>\n",
       "      <td>0.60</td>\n",
       "      <td>0.60</td>\n",
       "      <td>0.000000</td>\n",
       "      <td>0.926704</td>\n",
       "    </tr>\n",
       "  </tbody>\n",
       "</table>\n",
       "</div>"
      ],
      "text/plain": [
       "        Control Mean  Test Mean  Percentage Difference %  \\\n",
       "Income         55.17      54.94                -0.416893   \n",
       "Gender          0.65       0.65                 0.000000   \n",
       "Gamer           0.60       0.60                 0.000000   \n",
       "\n",
       "        Statistical Significance  \n",
       "Income                  0.128358  \n",
       "Gender                  0.906033  \n",
       "Gamer                   0.926704  "
      ]
     },
     "execution_count": 275,
     "metadata": {},
     "output_type": "execute_result"
    }
   ],
   "source": [
    "comparison_table = pd.DataFrame({'Control Mean':[control_income, control_gender,control_gamer], \n",
    "                           'Test Mean':[test_income, test_gender,test_gamer],  \n",
    "                           'Percentage Difference %':[(test_income-control_income)/control_income*100, (test_gender-control_gender)/control_gender*100,(test_gamer-control_gamer)/control_gamer*100], \n",
    "                           'Statistical Significance':[p1, p2,p3]},\n",
    "                          index=['Income', 'Gender','Gamer'])\n",
    "comparison_table"
   ]
  },
  {
   "cell_type": "markdown",
   "metadata": {},
   "source": [
    "#### Briefly comment on what these metrics tell you about probabilistic equivalence for this experiment."
   ]
  },
  {
   "cell_type": "markdown",
   "metadata": {},
   "source": [
    "These metrics suggest that the probabilistic equivalence of this experiment is quite high. There is not statistically significant difference between the control and test group in regards to income, gender, and gaming enthusiasm. We can assume that the control and test groups are randomly assigned and have little bias."
   ]
  },
  {
   "cell_type": "markdown",
   "metadata": {},
   "source": [
    "#### If you had run this type of analysis BEFORE executing an experiment and found a large difference between test and control groups, what you should do?"
   ]
  },
  {
   "cell_type": "markdown",
   "metadata": {},
   "source": [
    "Then I should pause on executing the experiment and take a closer look into why there is significant difference between the test and control groups. What kind of bias exist? For example, is the assignment based on browser type or location that disturbs the random nature of control/test assignment."
   ]
  },
  {
   "cell_type": "markdown",
   "metadata": {},
   "source": [
    "#### If you had millions of consumers, your “classic” statistical significance tests would not work (this is because the number of samples is used to compute those classic statistical tests). Do some research online and propose what significance test would you do in case you had “big data”?"
   ]
  },
  {
   "cell_type": "markdown",
   "metadata": {},
   "source": [
    "In the case of big data, the number of sample makes the value of standard error extremely small. Therefore, relying on p-values, it is easy to mistake non-significant results as significant and result in a lot of false positives. We should look at the effect size for determining substantive significance when we have big data. It works because effect size is independent of sample size and can tell us how big the treatment effect is."
   ]
  },
  {
   "cell_type": "markdown",
   "metadata": {},
   "source": [
    "### Evaluate the average purchase rates in the test and control for the following groups. For each comparison, report the average purchase rate for the test, average purchase rate for the control and the absolute difference (not the % difference) between the test and control."
   ]
  },
  {
   "cell_type": "code",
   "execution_count": 200,
   "metadata": {},
   "outputs": [],
   "source": [
    "test_pr = round(len(test_group[test_group['purchase']==1])/len(test_group)*100,2)\n",
    "control_pr = round(len(control_group[control_group['purchase']==1])/len(control_group)*100,2)"
   ]
  },
  {
   "cell_type": "code",
   "execution_count": 194,
   "metadata": {},
   "outputs": [],
   "source": [
    "# Male Test\n",
    "male_test = test_group[test_group['gender']==1]\n",
    "male_test_pr = round(len(male_test[male_test['purchase']==1])/len(male_test)*100,2)\n",
    "# Male Control\n",
    "male_control = control_group[control_group['gender']==1]\n",
    "male_control_pr = round(len(male_control[male_control['purchase']==1])/len(male_control)*100,2)\n",
    "# Female Test\n",
    "female_test = test_group[test_group['gender']==0]\n",
    "female_test_pr = round(len(female_test[female_test['purchase']==1])/len(female_test)*100,2)\n",
    "# Female Control\n",
    "female_control = control_group[control_group['gender']==0]\n",
    "female_control_pr = round(len(female_control[female_control['purchase']==1])/len(female_control)*100,2)"
   ]
  },
  {
   "cell_type": "code",
   "execution_count": 206,
   "metadata": {},
   "outputs": [],
   "source": [
    "# Gamer Test\n",
    "gamer_test = test_group[test_group['gamer']==1]\n",
    "gamer_test_pr = round(len(gamer_test[gamer_test['purchase']==1])/len(gamer_test)*100,2)\n",
    "# Gamer Control\n",
    "gamer_control = control_group[control_group['gamer']==1]\n",
    "gamer_control_pr = round(len(gamer_control[gamer_control['purchase']==1])/len(gamer_control)*100,2)\n",
    "# Non-Gamer Test\n",
    "nongamer_test = test_group[test_group['gamer']==0]\n",
    "nongamer_test_pr = round(len(nongamer_test[nongamer_test['purchase']==1])/len(nongamer_test)*100,2)\n",
    "# Non-Gamer Control\n",
    "nongamer_control = control_group[control_group['gamer']==0]\n",
    "nongamer_control_pr = round(len(nongamer_control[nongamer_control['purchase']==1])/len(nongamer_control)*100,2)"
   ]
  },
  {
   "cell_type": "code",
   "execution_count": 229,
   "metadata": {},
   "outputs": [],
   "source": [
    "# Male Gamer Test\n",
    "male_gamer_test = test_group[(test_group['gender'] ==1) & (test_group['gamer'] ==1) ]\n",
    "male_gamer_test_pr = round(len(male_gamer_test[male_gamer_test['purchase']==1])/len(male_gamer_test)*100,2)\n",
    "# Male Gamer Control\n",
    "male_gamer_control = control_group[(control_group['gender'] ==1) & (control_group['gamer'] ==1) ]\n",
    "male_gamer_control_pr = round(len(male_gamer_control[male_gamer_control['purchase']==1])/len(male_gamer_control)*100,2)\n",
    "# Female Gamer Test\n",
    "female_gamer_test = test_group[(test_group['gender'] ==0) & (test_group['gamer'] ==1) ]\n",
    "female_gamer_test_pr = round(len(female_gamer_test[female_gamer_test['purchase']==1])/len(female_gamer_test)*100,2)\n",
    "female_gamer_test_pr\n",
    "# Female Gamer Control\n",
    "female_gamer_control = control_group[(control_group['gender'] ==0) & (control_group['gamer'] ==1) ]\n",
    "female_gamer_control_pr = round(len(female_gamer_control[female_gamer_control['purchase']==1])/len(female_gamer_control)*100,2)"
   ]
  },
  {
   "cell_type": "code",
   "execution_count": 183,
   "metadata": {},
   "outputs": [],
   "source": [
    "male_gamer = gamer[gamer['gender']==1]\n",
    "male_gamer_pr = round(len(male_gamer[male_gamer['purchase']==1])/len(male_gamer),2)\n",
    "female_gamer = gamer[gamer['gender']==0]\n",
    "female_gamer_pr = round(len(female_gamer[female_gamer['purchase']==1])/len(female_gamer),2)"
   ]
  },
  {
   "cell_type": "code",
   "execution_count": 272,
   "metadata": {},
   "outputs": [
    {
     "data": {
      "text/html": [
       "<div>\n",
       "<style scoped>\n",
       "    .dataframe tbody tr th:only-of-type {\n",
       "        vertical-align: middle;\n",
       "    }\n",
       "\n",
       "    .dataframe tbody tr th {\n",
       "        vertical-align: top;\n",
       "    }\n",
       "\n",
       "    .dataframe thead th {\n",
       "        text-align: right;\n",
       "    }\n",
       "</style>\n",
       "<table border=\"1\" class=\"dataframe\">\n",
       "  <thead>\n",
       "    <tr style=\"text-align: right;\">\n",
       "      <th></th>\n",
       "      <th>All Customers</th>\n",
       "      <th>Male</th>\n",
       "      <th>Female</th>\n",
       "      <th>Gamer</th>\n",
       "      <th>Non-Gamer</th>\n",
       "      <th>Male Gamer</th>\n",
       "      <th>Female Gamer</th>\n",
       "    </tr>\n",
       "  </thead>\n",
       "  <tbody>\n",
       "    <tr>\n",
       "      <th>Test Group %</th>\n",
       "      <td>7.68</td>\n",
       "      <td>7.46</td>\n",
       "      <td>8.09</td>\n",
       "      <td>10.45</td>\n",
       "      <td>3.51</td>\n",
       "      <td>10.14</td>\n",
       "      <td>11.01</td>\n",
       "    </tr>\n",
       "    <tr>\n",
       "      <th>Control Group %</th>\n",
       "      <td>3.62</td>\n",
       "      <td>3.72</td>\n",
       "      <td>3.44</td>\n",
       "      <td>3.54</td>\n",
       "      <td>3.74</td>\n",
       "      <td>3.73</td>\n",
       "      <td>3.20</td>\n",
       "    </tr>\n",
       "    <tr>\n",
       "      <th>Difference</th>\n",
       "      <td>4.06</td>\n",
       "      <td>3.74</td>\n",
       "      <td>4.65</td>\n",
       "      <td>6.91</td>\n",
       "      <td>-0.23</td>\n",
       "      <td>6.41</td>\n",
       "      <td>7.81</td>\n",
       "    </tr>\n",
       "  </tbody>\n",
       "</table>\n",
       "</div>"
      ],
      "text/plain": [
       "                 All Customers  Male  Female  Gamer  Non-Gamer  Male Gamer  \\\n",
       "Test Group %              7.68  7.46    8.09  10.45       3.51       10.14   \n",
       "Control Group %           3.62  3.72    3.44   3.54       3.74        3.73   \n",
       "Difference                4.06  3.74    4.65   6.91      -0.23        6.41   \n",
       "\n",
       "                 Female Gamer  \n",
       "Test Group %            11.01  \n",
       "Control Group %          3.20  \n",
       "Difference               7.81  "
      ]
     },
     "execution_count": 272,
     "metadata": {},
     "output_type": "execute_result"
    }
   ],
   "source": [
    "comparison_table_1 = pd.DataFrame({'All Customers':[test_pr, control_pr,test_pr-control_pr],\n",
    "                             'Male':[male_test_pr, male_control_pr,male_test_pr-male_control_pr],\n",
    "                            'Female':[female_test_pr, female_control_pr,female_test_pr-female_control_pr],\n",
    "                            'Gamer':[gamer_test_pr,gamer_control_pr,gamer_test_pr-gamer_control_pr],\n",
    "                            'Non-Gamer':[nongamer_test_pr,nongamer_control_pr,nongamer_test_pr-nongamer_control_pr],\n",
    "                            'Male Gamer':[male_gamer_test_pr,male_gamer_control_pr,male_gamer_test_pr-male_gamer_control_pr],\n",
    "                            'Female Gamer': [female_gamer_test_pr,female_gamer_control_pr,female_gamer_test_pr-female_gamer_control_pr]},\n",
    "                             index=['Test Group %', 'Control Group %','Difference'])\n",
    "comparison_table_1"
   ]
  },
  {
   "cell_type": "markdown",
   "metadata": {},
   "source": [
    "### Assess the expected revenue in the test vs. control for the following comparisons"
   ]
  },
  {
   "cell_type": "code",
   "execution_count": 262,
   "metadata": {},
   "outputs": [],
   "source": [
    "test_r = round(test_pr*12.5/100,2)\n",
    "control_r = round(control_pr*12.5/100,2)"
   ]
  },
  {
   "cell_type": "code",
   "execution_count": 263,
   "metadata": {},
   "outputs": [],
   "source": [
    "# Male Gamer Test\n",
    "male_gamer_test_r = round(male_gamer_test_pr*12.5/100,2)\n",
    "# Male Gamer Control\n",
    "male_gamer_control_r = round(male_gamer_control_pr*12.5/100,2)\n",
    "# Female Gamer Test\n",
    "female_gamer_test_r = round(female_gamer_test_pr*12.5/100,2)\n",
    "# Female Gamer Control\n",
    "female_gamer_control_r = round(female_gamer_control_pr*12.5/100,2)"
   ]
  },
  {
   "cell_type": "code",
   "execution_count": 265,
   "metadata": {},
   "outputs": [
    {
     "data": {
      "text/html": [
       "<div>\n",
       "<style scoped>\n",
       "    .dataframe tbody tr th:only-of-type {\n",
       "        vertical-align: middle;\n",
       "    }\n",
       "\n",
       "    .dataframe tbody tr th {\n",
       "        vertical-align: top;\n",
       "    }\n",
       "\n",
       "    .dataframe thead th {\n",
       "        text-align: right;\n",
       "    }\n",
       "</style>\n",
       "<table border=\"1\" class=\"dataframe\">\n",
       "  <thead>\n",
       "    <tr style=\"text-align: right;\">\n",
       "      <th></th>\n",
       "      <th>All Customers</th>\n",
       "      <th>Male Gamer</th>\n",
       "      <th>Female Gamer</th>\n",
       "    </tr>\n",
       "  </thead>\n",
       "  <tbody>\n",
       "    <tr>\n",
       "      <th>Test Group $</th>\n",
       "      <td>0.96</td>\n",
       "      <td>1.27</td>\n",
       "      <td>1.38</td>\n",
       "    </tr>\n",
       "    <tr>\n",
       "      <th>Control Group $</th>\n",
       "      <td>0.45</td>\n",
       "      <td>0.47</td>\n",
       "      <td>0.40</td>\n",
       "    </tr>\n",
       "    <tr>\n",
       "      <th>Difference $</th>\n",
       "      <td>0.51</td>\n",
       "      <td>0.80</td>\n",
       "      <td>0.98</td>\n",
       "    </tr>\n",
       "  </tbody>\n",
       "</table>\n",
       "</div>"
      ],
      "text/plain": [
       "                 All Customers  Male Gamer  Female Gamer\n",
       "Test Group $              0.96        1.27          1.38\n",
       "Control Group $           0.45        0.47          0.40\n",
       "Difference $              0.51        0.80          0.98"
      ]
     },
     "execution_count": 265,
     "metadata": {},
     "output_type": "execute_result"
    }
   ],
   "source": [
    "comparison_table_2 = pd.DataFrame({'All Customers':[test_r, control_r,test_r-control_r],\n",
    "                            'Male Gamer':[male_gamer_test_r,male_gamer_control_r,male_gamer_test_r-male_gamer_control_r],\n",
    "                            'Female Gamer': [female_gamer_test_r,female_gamer_control_r,female_gamer_test_r-female_gamer_control_r]},\n",
    "                             index=['Test Group $', 'Control Group $','Difference $'])\n",
    "comparison_table_2"
   ]
  },
  {
   "cell_type": "markdown",
   "metadata": {},
   "source": [
    "### Based on your previous answers, provide a brief recommendation to your management team summarizing the expected financial outcome for Game-Fun."
   ]
  },
  {
   "cell_type": "markdown",
   "metadata": {},
   "source": [
    "Generally, we have seen all positive differences between the test group and the control group. Therefore, Game Fun should run this promotion again in the future. However, the company should not offer it to all customers. Instead Game Fun should offer it only to a targeted segment with largest return, which is the group of female gamers."
   ]
  },
  {
   "cell_type": "code",
   "execution_count": null,
   "metadata": {},
   "outputs": [],
   "source": []
  }
 ],
 "metadata": {
  "hide_input": false,
  "kernelspec": {
   "display_name": "Python 3",
   "language": "python",
   "name": "python3"
  },
  "language_info": {
   "codemirror_mode": {
    "name": "ipython",
    "version": 3
   },
   "file_extension": ".py",
   "mimetype": "text/x-python",
   "name": "python",
   "nbconvert_exporter": "python",
   "pygments_lexer": "ipython3",
   "version": "3.7.3"
  },
  "toc": {
   "base_numbering": 1,
   "nav_menu": {},
   "number_sections": true,
   "sideBar": true,
   "skip_h1_title": false,
   "title_cell": "Table of Contents",
   "title_sidebar": "Contents",
   "toc_cell": true,
   "toc_position": {},
   "toc_section_display": true,
   "toc_window_display": false
  }
 },
 "nbformat": 4,
 "nbformat_minor": 2
}
